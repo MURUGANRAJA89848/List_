{
 "cells": [
  {
   "cell_type": "code",
   "execution_count": 14,
   "id": "7c759039",
   "metadata": {},
   "outputs": [
    {
     "name": "stdout",
     "output_type": "stream",
     "text": [
      "['NAME: MURUGAN R']\n"
     ]
    }
   ],
   "source": [
    "#question1\n",
    "list1=[]\n",
    "list1.append('NAME: MURUGAN R')\n",
    "print(list1)"
   ]
  },
  {
   "cell_type": "code",
   "execution_count": 15,
   "id": "f7844435",
   "metadata": {},
   "outputs": [
    {
     "name": "stdout",
     "output_type": "stream",
     "text": [
      "['AGE:31']\n"
     ]
    }
   ],
   "source": [
    "list1=[]\n",
    "list1.append('AGE:31')\n",
    "print(list1)"
   ]
  },
  {
   "cell_type": "code",
   "execution_count": 16,
   "id": "81af4658",
   "metadata": {},
   "outputs": [
    {
     "name": "stdout",
     "output_type": "stream",
     "text": [
      "['NATIVE PLACE: THENI']\n"
     ]
    }
   ],
   "source": [
    "list1=[]\n",
    "list1.append('NATIVE PLACE: THENI')\n",
    "print(list1)"
   ]
  },
  {
   "cell_type": "code",
   "execution_count": 17,
   "id": "c6b498da",
   "metadata": {},
   "outputs": [
    {
     "name": "stdout",
     "output_type": "stream",
     "text": [
      "['WORKING PLACE: MADINAH, KSA']\n"
     ]
    }
   ],
   "source": [
    "list1=[]\n",
    "list1.append('WORKING PLACE: MADINAH, KSA')\n",
    "print(list1)"
   ]
  },
  {
   "cell_type": "code",
   "execution_count": 24,
   "id": "35b6fa85",
   "metadata": {},
   "outputs": [
    {
     "name": "stdout",
     "output_type": "stream",
     "text": [
      "['NAME: MURUGAN R', 'AGE:31', 'NATIVE PLACE: THENI', 'WORKING PLACE: MADINAH KSA']\n"
     ]
    }
   ],
   "source": [
    "list1=[]\n",
    "list1.extend(['NAME: MURUGAN R','AGE:31','NATIVE PLACE: THENI','WORKING PLACE: MADINAH KSA'])\n",
    "print(list1)"
   ]
  },
  {
   "cell_type": "code",
   "execution_count": 35,
   "id": "f3e61d04",
   "metadata": {},
   "outputs": [
    {
     "name": "stdout",
     "output_type": "stream",
     "text": [
      "[[11, 12, 13]]\n"
     ]
    }
   ],
   "source": [
    "list2=[2,4,6,8,3,6,9,10.2,11,[11,12,13]]\n",
    "print(list2[-1:])"
   ]
  },
  {
   "cell_type": "code",
   "execution_count": 37,
   "id": "4d849b15",
   "metadata": {},
   "outputs": [
    {
     "name": "stdout",
     "output_type": "stream",
     "text": [
      "4.5\n"
     ]
    }
   ],
   "source": [
    "list3=[1,2,3,4,5,6,7,8]\n",
    "print(sum(list3)/len(list3))"
   ]
  },
  {
   "cell_type": "code",
   "execution_count": 66,
   "id": "4fe4ae8e",
   "metadata": {},
   "outputs": [
    {
     "name": "stdout",
     "output_type": "stream",
     "text": [
      "Sum: 8\n",
      "Avg: 1\n"
     ]
    }
   ],
   "source": [
    "list3=[1,2,3,4,5,6,7,8]\n",
    "sum=0\n",
    "for i in list3:\n",
    "    sum_=sum+i\n",
    "    avg_=sum_/len(list3)\n",
    "print(\"Sum:\",sum_)\n",
    "print(\"Avg:\",int(avg_))    "
   ]
  },
  {
   "cell_type": "code",
   "execution_count": 84,
   "id": "5a23d063",
   "metadata": {},
   "outputs": [
    {
     "name": "stdout",
     "output_type": "stream",
     "text": [
      "count of 1 is: 2\n",
      "count of 2 is: 3\n",
      "count of 3 is: 3\n"
     ]
    }
   ],
   "source": [
    "list4=[1,1,2,2,2,3,3,3,]\n",
    "count1=0\n",
    "count2=0\n",
    "count3=0\n",
    "for i in list4:\n",
    "    if i==1:\n",
    "        count1=count1+1\n",
    "    elif i==2:\n",
    "        count2=count2+1\n",
    "    elif i==3:\n",
    "        count3=count3+1\n",
    "print('count of 1 is:',count1)\n",
    "print('count of 2 is:',count2)\n",
    "print('count of 3 is:',count3)"
   ]
  },
  {
   "cell_type": "code",
   "execution_count": 42,
   "id": "d4f2b840",
   "metadata": {},
   "outputs": [
    {
     "name": "stdout",
     "output_type": "stream",
     "text": [
      "[2, 4, 6]\n"
     ]
    }
   ],
   "source": [
    "list5=[2,4,6]\n",
    "list6=list5.copy()\n",
    "print(list6)"
   ]
  },
  {
   "cell_type": "code",
   "execution_count": 12,
   "id": "8dfa3bb4",
   "metadata": {},
   "outputs": [
    {
     "name": "stdout",
     "output_type": "stream",
     "text": [
      "[1, 3, 5, 7, 9, 11]\n"
     ]
    }
   ],
   "source": [
    "list_=[1,3,5,7,9]\n",
    "list_.append(11)\n",
    "print(list_)"
   ]
  },
  {
   "cell_type": "code",
   "execution_count": 9,
   "id": "8ff0e80e",
   "metadata": {},
   "outputs": [
    {
     "name": "stdout",
     "output_type": "stream",
     "text": [
      "[1, 3, 7, 9]\n"
     ]
    }
   ],
   "source": [
    "list_=[1,3,5,7,9]\n",
    "list_.pop(2)\n",
    "print(list_)"
   ]
  }
 ],
 "metadata": {
  "kernelspec": {
   "display_name": "Python 3 (ipykernel)",
   "language": "python",
   "name": "python3"
  },
  "language_info": {
   "codemirror_mode": {
    "name": "ipython",
    "version": 3
   },
   "file_extension": ".py",
   "mimetype": "text/x-python",
   "name": "python",
   "nbconvert_exporter": "python",
   "pygments_lexer": "ipython3",
   "version": "3.11.5"
  }
 },
 "nbformat": 4,
 "nbformat_minor": 5
}
